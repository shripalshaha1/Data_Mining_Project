{
  "cells": [
    {
      "cell_type": "code",
      "execution_count": null,
      "id": "6db789db",
      "metadata": {
        "id": "6db789db"
      },
      "outputs": [],
      "source": [
        "import pandas as pd\n",
        "import numpy as np\n",
        "import seaborn as sns\n",
        "import matplotlib.pyplot as plt\n",
        "%matplotlib inline"
      ]
    },
    {
      "cell_type": "code",
      "execution_count": null,
      "id": "0e94ef77",
      "metadata": {
        "id": "0e94ef77"
      },
      "outputs": [],
      "source": [
        "generation_data = pd.read_csv('Plant_1_Generation_Data.csv')\n",
        "weather_data = pd.read_csv('Plant_1_Weather_Sensor_Data.csv')\n",
        "\n",
        "#add plant 2\n",
        "generation_data2 = pd.read_csv('Plant_2_Generation_Data.csv')\n",
        "weather_data2 = pd.read_csv('Plant_2_Weather_Sensor_Data.csv')\n"
      ]
    },
    {
      "cell_type": "code",
      "execution_count": null,
      "id": "035b9e94",
      "metadata": {
        "id": "035b9e94",
        "outputId": "7be5038c-0c53-4ea5-c391-18bc8134c5c0"
      },
      "outputs": [
        {
          "name": "stdout",
          "output_type": "stream",
          "text": [
            "<class 'pandas.core.frame.DataFrame'>\n",
            "Int64Index: 136476 entries, 0 to 67697\n",
            "Data columns (total 7 columns):\n",
            " #   Column       Non-Null Count   Dtype  \n",
            "---  ------       --------------   -----  \n",
            " 0   DATE_TIME    136476 non-null  object \n",
            " 1   PLANT_ID     136476 non-null  int64  \n",
            " 2   SOURCE_KEY   136476 non-null  object \n",
            " 3   DC_POWER     136476 non-null  float64\n",
            " 4   AC_POWER     136476 non-null  float64\n",
            " 5   DAILY_YIELD  136476 non-null  float64\n",
            " 6   TOTAL_YIELD  136476 non-null  float64\n",
            "dtypes: float64(4), int64(1), object(2)\n",
            "memory usage: 8.3+ MB\n"
          ]
        }
      ],
      "source": [
        "generation_data.info()"
      ]
    },
    {
      "cell_type": "code",
      "execution_count": null,
      "id": "0b8ca7b5",
      "metadata": {
        "id": "0b8ca7b5",
        "outputId": "ffa50df3-1c53-48cc-90c0-bb7a44f51c0e"
      },
      "outputs": [
        {
          "name": "stdout",
          "output_type": "stream",
          "text": [
            "<class 'pandas.core.frame.DataFrame'>\n",
            "RangeIndex: 67698 entries, 0 to 67697\n",
            "Data columns (total 7 columns):\n",
            " #   Column       Non-Null Count  Dtype  \n",
            "---  ------       --------------  -----  \n",
            " 0   DATE_TIME    67698 non-null  object \n",
            " 1   PLANT_ID     67698 non-null  int64  \n",
            " 2   SOURCE_KEY   67698 non-null  object \n",
            " 3   DC_POWER     67698 non-null  float64\n",
            " 4   AC_POWER     67698 non-null  float64\n",
            " 5   DAILY_YIELD  67698 non-null  float64\n",
            " 6   TOTAL_YIELD  67698 non-null  float64\n",
            "dtypes: float64(4), int64(1), object(2)\n",
            "memory usage: 3.6+ MB\n"
          ]
        }
      ],
      "source": [
        "generation_data2.info()"
      ]
    },
    {
      "cell_type": "code",
      "execution_count": null,
      "id": "718e67af",
      "metadata": {
        "id": "718e67af",
        "outputId": "a63b1c1f-7bbb-4271-959c-043b9d0ebbd8"
      },
      "outputs": [
        {
          "name": "stdout",
          "output_type": "stream",
          "text": [
            "<class 'pandas.core.frame.DataFrame'>\n",
            "Int64Index: 6364 entries, 0 to 3181\n",
            "Data columns (total 6 columns):\n",
            " #   Column               Non-Null Count  Dtype  \n",
            "---  ------               --------------  -----  \n",
            " 0   DATE_TIME            6364 non-null   object \n",
            " 1   PLANT_ID             6364 non-null   int64  \n",
            " 2   SOURCE_KEY           6364 non-null   object \n",
            " 3   AMBIENT_TEMPERATURE  6364 non-null   float64\n",
            " 4   MODULE_TEMPERATURE   6364 non-null   float64\n",
            " 5   IRRADIATION          6364 non-null   float64\n",
            "dtypes: float64(3), int64(1), object(2)\n",
            "memory usage: 348.0+ KB\n"
          ]
        }
      ],
      "source": [
        "weather_data.info()"
      ]
    },
    {
      "cell_type": "code",
      "execution_count": null,
      "id": "1eda7c59",
      "metadata": {
        "id": "1eda7c59",
        "outputId": "8c0f34f7-6775-4eb8-86b8-cd5f47f370bf"
      },
      "outputs": [
        {
          "name": "stdout",
          "output_type": "stream",
          "text": [
            "<class 'pandas.core.frame.DataFrame'>\n",
            "RangeIndex: 3259 entries, 0 to 3258\n",
            "Data columns (total 6 columns):\n",
            " #   Column               Non-Null Count  Dtype  \n",
            "---  ------               --------------  -----  \n",
            " 0   DATE_TIME            3259 non-null   object \n",
            " 1   PLANT_ID             3259 non-null   int64  \n",
            " 2   SOURCE_KEY           3259 non-null   object \n",
            " 3   AMBIENT_TEMPERATURE  3259 non-null   float64\n",
            " 4   MODULE_TEMPERATURE   3259 non-null   float64\n",
            " 5   IRRADIATION          3259 non-null   float64\n",
            "dtypes: float64(3), int64(1), object(2)\n",
            "memory usage: 152.9+ KB\n"
          ]
        }
      ],
      "source": [
        "weather_data2.info()"
      ]
    },
    {
      "cell_type": "code",
      "execution_count": null,
      "id": "4a787bc3",
      "metadata": {
        "id": "4a787bc3",
        "outputId": "9ef75635-8458-4f01-a946-5af9e48a57eb"
      },
      "outputs": [
        {
          "data": {
            "text/html": [
              "<div>\n",
              "<style scoped>\n",
              "    .dataframe tbody tr th:only-of-type {\n",
              "        vertical-align: middle;\n",
              "    }\n",
              "\n",
              "    .dataframe tbody tr th {\n",
              "        vertical-align: top;\n",
              "    }\n",
              "\n",
              "    .dataframe thead th {\n",
              "        text-align: right;\n",
              "    }\n",
              "</style>\n",
              "<table border=\"1\" class=\"dataframe\">\n",
              "  <thead>\n",
              "    <tr style=\"text-align: right;\">\n",
              "      <th></th>\n",
              "      <th>DATE_TIME</th>\n",
              "      <th>PLANT_ID</th>\n",
              "      <th>SOURCE_KEY</th>\n",
              "      <th>DC_POWER</th>\n",
              "      <th>AC_POWER</th>\n",
              "      <th>DAILY_YIELD</th>\n",
              "      <th>TOTAL_YIELD</th>\n",
              "    </tr>\n",
              "  </thead>\n",
              "  <tbody>\n",
              "    <tr>\n",
              "      <th>0</th>\n",
              "      <td>15-05-2020 00:00</td>\n",
              "      <td>4135001</td>\n",
              "      <td>1BY6WEcLGh8j5v7</td>\n",
              "      <td>0.0</td>\n",
              "      <td>0.0</td>\n",
              "      <td>0.0</td>\n",
              "      <td>6259559.0</td>\n",
              "    </tr>\n",
              "    <tr>\n",
              "      <th>1</th>\n",
              "      <td>15-05-2020 00:00</td>\n",
              "      <td>4135001</td>\n",
              "      <td>1IF53ai7Xc0U56Y</td>\n",
              "      <td>0.0</td>\n",
              "      <td>0.0</td>\n",
              "      <td>0.0</td>\n",
              "      <td>6183645.0</td>\n",
              "    </tr>\n",
              "    <tr>\n",
              "      <th>2</th>\n",
              "      <td>15-05-2020 00:00</td>\n",
              "      <td>4135001</td>\n",
              "      <td>3PZuoBAID5Wc2HD</td>\n",
              "      <td>0.0</td>\n",
              "      <td>0.0</td>\n",
              "      <td>0.0</td>\n",
              "      <td>6987759.0</td>\n",
              "    </tr>\n",
              "    <tr>\n",
              "      <th>3</th>\n",
              "      <td>15-05-2020 00:00</td>\n",
              "      <td>4135001</td>\n",
              "      <td>7JYdWkrLSPkdwr4</td>\n",
              "      <td>0.0</td>\n",
              "      <td>0.0</td>\n",
              "      <td>0.0</td>\n",
              "      <td>7602960.0</td>\n",
              "    </tr>\n",
              "    <tr>\n",
              "      <th>4</th>\n",
              "      <td>15-05-2020 00:00</td>\n",
              "      <td>4135001</td>\n",
              "      <td>McdE0feGgRqW7Ca</td>\n",
              "      <td>0.0</td>\n",
              "      <td>0.0</td>\n",
              "      <td>0.0</td>\n",
              "      <td>7158964.0</td>\n",
              "    </tr>\n",
              "  </tbody>\n",
              "</table>\n",
              "</div>"
            ],
            "text/plain": [
              "          DATE_TIME  PLANT_ID       SOURCE_KEY  DC_POWER  AC_POWER  \\\n",
              "0  15-05-2020 00:00   4135001  1BY6WEcLGh8j5v7       0.0       0.0   \n",
              "1  15-05-2020 00:00   4135001  1IF53ai7Xc0U56Y       0.0       0.0   \n",
              "2  15-05-2020 00:00   4135001  3PZuoBAID5Wc2HD       0.0       0.0   \n",
              "3  15-05-2020 00:00   4135001  7JYdWkrLSPkdwr4       0.0       0.0   \n",
              "4  15-05-2020 00:00   4135001  McdE0feGgRqW7Ca       0.0       0.0   \n",
              "\n",
              "   DAILY_YIELD  TOTAL_YIELD  \n",
              "0          0.0    6259559.0  \n",
              "1          0.0    6183645.0  \n",
              "2          0.0    6987759.0  \n",
              "3          0.0    7602960.0  \n",
              "4          0.0    7158964.0  "
            ]
          },
          "execution_count": 5,
          "metadata": {},
          "output_type": "execute_result"
        }
      ],
      "source": [
        "generation_data.head()"
      ]
    },
    {
      "cell_type": "code",
      "execution_count": null,
      "id": "dee37f21",
      "metadata": {
        "id": "dee37f21",
        "outputId": "43b396a2-af3c-47ff-a550-f5bae0748dcb"
      },
      "outputs": [
        {
          "data": {
            "text/html": [
              "<div>\n",
              "<style scoped>\n",
              "    .dataframe tbody tr th:only-of-type {\n",
              "        vertical-align: middle;\n",
              "    }\n",
              "\n",
              "    .dataframe tbody tr th {\n",
              "        vertical-align: top;\n",
              "    }\n",
              "\n",
              "    .dataframe thead th {\n",
              "        text-align: right;\n",
              "    }\n",
              "</style>\n",
              "<table border=\"1\" class=\"dataframe\">\n",
              "  <thead>\n",
              "    <tr style=\"text-align: right;\">\n",
              "      <th></th>\n",
              "      <th>DATE_TIME</th>\n",
              "      <th>PLANT_ID</th>\n",
              "      <th>SOURCE_KEY</th>\n",
              "      <th>AMBIENT_TEMPERATURE</th>\n",
              "      <th>MODULE_TEMPERATURE</th>\n",
              "      <th>IRRADIATION</th>\n",
              "    </tr>\n",
              "  </thead>\n",
              "  <tbody>\n",
              "    <tr>\n",
              "      <th>0</th>\n",
              "      <td>2020-05-15 00:00:00</td>\n",
              "      <td>4135001</td>\n",
              "      <td>HmiyD2TTLFNqkNe</td>\n",
              "      <td>25.184316</td>\n",
              "      <td>22.857507</td>\n",
              "      <td>0.0</td>\n",
              "    </tr>\n",
              "    <tr>\n",
              "      <th>1</th>\n",
              "      <td>2020-05-15 00:15:00</td>\n",
              "      <td>4135001</td>\n",
              "      <td>HmiyD2TTLFNqkNe</td>\n",
              "      <td>25.084589</td>\n",
              "      <td>22.761668</td>\n",
              "      <td>0.0</td>\n",
              "    </tr>\n",
              "    <tr>\n",
              "      <th>2</th>\n",
              "      <td>2020-05-15 00:30:00</td>\n",
              "      <td>4135001</td>\n",
              "      <td>HmiyD2TTLFNqkNe</td>\n",
              "      <td>24.935753</td>\n",
              "      <td>22.592306</td>\n",
              "      <td>0.0</td>\n",
              "    </tr>\n",
              "    <tr>\n",
              "      <th>3</th>\n",
              "      <td>2020-05-15 00:45:00</td>\n",
              "      <td>4135001</td>\n",
              "      <td>HmiyD2TTLFNqkNe</td>\n",
              "      <td>24.846130</td>\n",
              "      <td>22.360852</td>\n",
              "      <td>0.0</td>\n",
              "    </tr>\n",
              "    <tr>\n",
              "      <th>4</th>\n",
              "      <td>2020-05-15 01:00:00</td>\n",
              "      <td>4135001</td>\n",
              "      <td>HmiyD2TTLFNqkNe</td>\n",
              "      <td>24.621525</td>\n",
              "      <td>22.165423</td>\n",
              "      <td>0.0</td>\n",
              "    </tr>\n",
              "  </tbody>\n",
              "</table>\n",
              "</div>"
            ],
            "text/plain": [
              "             DATE_TIME  PLANT_ID       SOURCE_KEY  AMBIENT_TEMPERATURE  \\\n",
              "0  2020-05-15 00:00:00   4135001  HmiyD2TTLFNqkNe            25.184316   \n",
              "1  2020-05-15 00:15:00   4135001  HmiyD2TTLFNqkNe            25.084589   \n",
              "2  2020-05-15 00:30:00   4135001  HmiyD2TTLFNqkNe            24.935753   \n",
              "3  2020-05-15 00:45:00   4135001  HmiyD2TTLFNqkNe            24.846130   \n",
              "4  2020-05-15 01:00:00   4135001  HmiyD2TTLFNqkNe            24.621525   \n",
              "\n",
              "   MODULE_TEMPERATURE  IRRADIATION  \n",
              "0           22.857507          0.0  \n",
              "1           22.761668          0.0  \n",
              "2           22.592306          0.0  \n",
              "3           22.360852          0.0  \n",
              "4           22.165423          0.0  "
            ]
          },
          "execution_count": 6,
          "metadata": {},
          "output_type": "execute_result"
        }
      ],
      "source": [
        "weather_data.head()"
      ]
    },
    {
      "cell_type": "code",
      "execution_count": null,
      "id": "d6b78418",
      "metadata": {
        "id": "d6b78418",
        "outputId": "1d1688f7-13c7-49ca-e08a-085f92c32009"
      },
      "outputs": [
        {
          "name": "stdout",
          "output_type": "stream",
          "text": [
            "22\n",
            "1\n",
            "1\n",
            "1\n"
          ]
        }
      ],
      "source": [
        "print(generation_data['SOURCE_KEY'].unique().size)\n",
        "print(weather_data['SOURCE_KEY'].unique().size)\n",
        "\n",
        "print(generation_data['PLANT_ID'].unique().size)\n",
        "print(weather_data['PLANT_ID'].unique().size)"
      ]
    },
    {
      "cell_type": "code",
      "execution_count": null,
      "id": "8f5297bb",
      "metadata": {
        "id": "8f5297bb",
        "outputId": "0ce40f49-bc58-4d4d-b8b9-ca93d90924be"
      },
      "outputs": [
        {
          "name": "stdout",
          "output_type": "stream",
          "text": [
            "22\n",
            "1\n",
            "1\n",
            "1\n"
          ]
        }
      ],
      "source": [
        "print(generation_data2['SOURCE_KEY'].unique().size)\n",
        "print(weather_data2['SOURCE_KEY'].unique().size)\n",
        "\n",
        "print(generation_data2['PLANT_ID'].unique().size)\n",
        "print(weather_data2['PLANT_ID'].unique().size)"
      ]
    },
    {
      "cell_type": "code",
      "execution_count": null,
      "id": "7c662921",
      "metadata": {
        "id": "7c662921"
      },
      "outputs": [],
      "source": [
        "generation_data['SOURCE_KEY'] = generation_data['SOURCE_KEY'].astype(str)\n",
        "generation_data2['SOURCE_KEY'] = generation_data2['SOURCE_KEY'].astype(str)\n",
        "\n",
        "weather_data['SOURCE_KEY'] = weather_data['SOURCE_KEY'].astype(str)\n",
        "weather_data2['SOURCE_KEY'] = weather_data2['SOURCE_KEY'].astype(str)\n"
      ]
    },
    {
      "cell_type": "code",
      "execution_count": null,
      "id": "fb8627b6",
      "metadata": {
        "id": "fb8627b6"
      },
      "outputs": [],
      "source": [
        "generation_data['DATE'] = pd.to_datetime(generation_data['DATE_TIME']).dt.date\n",
        "generation_data['TIME'] = pd.to_datetime(generation_data['DATE_TIME']).dt.time\n",
        "weather_data['DATE'] = pd.to_datetime(weather_data['DATE_TIME']).dt.date\n",
        "weather_data['TIME'] = pd.to_datetime(weather_data['DATE_TIME']).dt.time\n",
        "generation_data2['DATE'] = pd.to_datetime(generation_data2['DATE_TIME']).dt.date\n",
        "generation_data2['TIME'] = pd.to_datetime(generation_data2['DATE_TIME']).dt.time\n",
        "weather_data2['DATE'] = pd.to_datetime(weather_data2['DATE_TIME']).dt.date\n",
        "weather_data2['TIME'] = pd.to_datetime(weather_data2['DATE_TIME']).dt.time"
      ]
    },
    {
      "cell_type": "code",
      "execution_count": null,
      "id": "d462f70a",
      "metadata": {
        "id": "d462f70a"
      },
      "outputs": [],
      "source": [
        "generation_data = generation_data.drop(['DATE_TIME'],axis=1)\n",
        "weather_data = weather_data.drop(['DATE_TIME'],axis=1)\n",
        "generation_data2 = generation_data2.drop(['DATE_TIME'],axis=1)\n",
        "weather_data2 = weather_data2.drop(['DATE_TIME'],axis=1)"
      ]
    },
    {
      "cell_type": "code",
      "execution_count": null,
      "id": "0cb7fbad",
      "metadata": {
        "id": "0cb7fbad"
      },
      "outputs": [],
      "source": [
        "df1 = pd.merge(generation_data, weather_data.drop(columns=['PLANT_ID', 'SOURCE_KEY']), on=['DATE', 'TIME'])\n",
        "df2 = pd.merge(generation_data2, weather_data2.drop(columns=['PLANT_ID', 'SOURCE_KEY']), on=['DATE', 'TIME'])"
      ]
    },
    {
      "cell_type": "code",
      "execution_count": null,
      "id": "cf1611fb",
      "metadata": {
        "id": "cf1611fb",
        "outputId": "3735a9e4-b80a-4751-85b0-35a1d3899b40"
      },
      "outputs": [
        {
          "name": "stdout",
          "output_type": "stream",
          "text": [
            "<class 'pandas.core.frame.DataFrame'>\n",
            "Int64Index: 45680 entries, 0 to 45679\n",
            "Data columns (total 11 columns):\n",
            " #   Column               Non-Null Count  Dtype  \n",
            "---  ------               --------------  -----  \n",
            " 0   PLANT_ID             45680 non-null  int64  \n",
            " 1   SOURCE_KEY           45680 non-null  object \n",
            " 2   DC_POWER             45680 non-null  float64\n",
            " 3   AC_POWER             45680 non-null  float64\n",
            " 4   DAILY_YIELD          45680 non-null  float64\n",
            " 5   TOTAL_YIELD          45680 non-null  float64\n",
            " 6   DATE                 45680 non-null  object \n",
            " 7   TIME                 45680 non-null  object \n",
            " 8   AMBIENT_TEMPERATURE  45680 non-null  float64\n",
            " 9   MODULE_TEMPERATURE   45680 non-null  float64\n",
            " 10  IRRADIATION          45680 non-null  float64\n",
            "dtypes: float64(7), int64(1), object(3)\n",
            "memory usage: 4.2+ MB\n"
          ]
        }
      ],
      "source": [
        "df1.info()"
      ]
    },
    {
      "cell_type": "code",
      "execution_count": null,
      "id": "b44826a5",
      "metadata": {
        "id": "b44826a5",
        "outputId": "812ef681-6451-4269-9aa7-f04cad877c16"
      },
      "outputs": [
        {
          "name": "stdout",
          "output_type": "stream",
          "text": [
            "<class 'pandas.core.frame.DataFrame'>\n",
            "Int64Index: 67698 entries, 0 to 67697\n",
            "Data columns (total 11 columns):\n",
            " #   Column               Non-Null Count  Dtype  \n",
            "---  ------               --------------  -----  \n",
            " 0   PLANT_ID             67698 non-null  int64  \n",
            " 1   SOURCE_KEY           67698 non-null  object \n",
            " 2   DC_POWER             67698 non-null  float64\n",
            " 3   AC_POWER             67698 non-null  float64\n",
            " 4   DAILY_YIELD          67698 non-null  float64\n",
            " 5   TOTAL_YIELD          67698 non-null  float64\n",
            " 6   DATE                 67698 non-null  object \n",
            " 7   TIME                 67698 non-null  object \n",
            " 8   AMBIENT_TEMPERATURE  67698 non-null  float64\n",
            " 9   MODULE_TEMPERATURE   67698 non-null  float64\n",
            " 10  IRRADIATION          67698 non-null  float64\n",
            "dtypes: float64(7), int64(1), object(3)\n",
            "memory usage: 6.2+ MB\n"
          ]
        }
      ],
      "source": [
        "df2.info()"
      ]
    },
    {
      "cell_type": "code",
      "execution_count": null,
      "id": "804c2f15",
      "metadata": {
        "id": "804c2f15",
        "outputId": "5092cbc9-8677-491e-c6ca-d45ec030427b"
      },
      "outputs": [
        {
          "data": {
            "text/html": [
              "<div>\n",
              "<style scoped>\n",
              "    .dataframe tbody tr th:only-of-type {\n",
              "        vertical-align: middle;\n",
              "    }\n",
              "\n",
              "    .dataframe tbody tr th {\n",
              "        vertical-align: top;\n",
              "    }\n",
              "\n",
              "    .dataframe thead th {\n",
              "        text-align: right;\n",
              "    }\n",
              "</style>\n",
              "<table border=\"1\" class=\"dataframe\">\n",
              "  <thead>\n",
              "    <tr style=\"text-align: right;\">\n",
              "      <th></th>\n",
              "      <th>PLANT_ID</th>\n",
              "      <th>SOURCE_KEY</th>\n",
              "      <th>DC_POWER</th>\n",
              "      <th>AC_POWER</th>\n",
              "      <th>DAILY_YIELD</th>\n",
              "      <th>TOTAL_YIELD</th>\n",
              "      <th>DATE</th>\n",
              "      <th>TIME</th>\n",
              "      <th>AMBIENT_TEMPERATURE</th>\n",
              "      <th>MODULE_TEMPERATURE</th>\n",
              "      <th>IRRADIATION</th>\n",
              "    </tr>\n",
              "  </thead>\n",
              "  <tbody>\n",
              "    <tr>\n",
              "      <th>0</th>\n",
              "      <td>4135001</td>\n",
              "      <td>1BY6WEcLGh8j5v7</td>\n",
              "      <td>0.0</td>\n",
              "      <td>0.0</td>\n",
              "      <td>0.0</td>\n",
              "      <td>6259559.0</td>\n",
              "      <td>2020-05-15</td>\n",
              "      <td>00:00:00</td>\n",
              "      <td>25.184316</td>\n",
              "      <td>22.857507</td>\n",
              "      <td>0.0</td>\n",
              "    </tr>\n",
              "    <tr>\n",
              "      <th>1</th>\n",
              "      <td>4135001</td>\n",
              "      <td>1IF53ai7Xc0U56Y</td>\n",
              "      <td>0.0</td>\n",
              "      <td>0.0</td>\n",
              "      <td>0.0</td>\n",
              "      <td>6183645.0</td>\n",
              "      <td>2020-05-15</td>\n",
              "      <td>00:00:00</td>\n",
              "      <td>25.184316</td>\n",
              "      <td>22.857507</td>\n",
              "      <td>0.0</td>\n",
              "    </tr>\n",
              "    <tr>\n",
              "      <th>2</th>\n",
              "      <td>4135001</td>\n",
              "      <td>3PZuoBAID5Wc2HD</td>\n",
              "      <td>0.0</td>\n",
              "      <td>0.0</td>\n",
              "      <td>0.0</td>\n",
              "      <td>6987759.0</td>\n",
              "      <td>2020-05-15</td>\n",
              "      <td>00:00:00</td>\n",
              "      <td>25.184316</td>\n",
              "      <td>22.857507</td>\n",
              "      <td>0.0</td>\n",
              "    </tr>\n",
              "    <tr>\n",
              "      <th>3</th>\n",
              "      <td>4135001</td>\n",
              "      <td>7JYdWkrLSPkdwr4</td>\n",
              "      <td>0.0</td>\n",
              "      <td>0.0</td>\n",
              "      <td>0.0</td>\n",
              "      <td>7602960.0</td>\n",
              "      <td>2020-05-15</td>\n",
              "      <td>00:00:00</td>\n",
              "      <td>25.184316</td>\n",
              "      <td>22.857507</td>\n",
              "      <td>0.0</td>\n",
              "    </tr>\n",
              "    <tr>\n",
              "      <th>4</th>\n",
              "      <td>4135001</td>\n",
              "      <td>McdE0feGgRqW7Ca</td>\n",
              "      <td>0.0</td>\n",
              "      <td>0.0</td>\n",
              "      <td>0.0</td>\n",
              "      <td>7158964.0</td>\n",
              "      <td>2020-05-15</td>\n",
              "      <td>00:00:00</td>\n",
              "      <td>25.184316</td>\n",
              "      <td>22.857507</td>\n",
              "      <td>0.0</td>\n",
              "    </tr>\n",
              "  </tbody>\n",
              "</table>\n",
              "</div>"
            ],
            "text/plain": [
              "   PLANT_ID       SOURCE_KEY  DC_POWER  AC_POWER  DAILY_YIELD  TOTAL_YIELD  \\\n",
              "0   4135001  1BY6WEcLGh8j5v7       0.0       0.0          0.0    6259559.0   \n",
              "1   4135001  1IF53ai7Xc0U56Y       0.0       0.0          0.0    6183645.0   \n",
              "2   4135001  3PZuoBAID5Wc2HD       0.0       0.0          0.0    6987759.0   \n",
              "3   4135001  7JYdWkrLSPkdwr4       0.0       0.0          0.0    7602960.0   \n",
              "4   4135001  McdE0feGgRqW7Ca       0.0       0.0          0.0    7158964.0   \n",
              "\n",
              "         DATE      TIME  AMBIENT_TEMPERATURE  MODULE_TEMPERATURE  IRRADIATION  \n",
              "0  2020-05-15  00:00:00            25.184316           22.857507          0.0  \n",
              "1  2020-05-15  00:00:00            25.184316           22.857507          0.0  \n",
              "2  2020-05-15  00:00:00            25.184316           22.857507          0.0  \n",
              "3  2020-05-15  00:00:00            25.184316           22.857507          0.0  \n",
              "4  2020-05-15  00:00:00            25.184316           22.857507          0.0  "
            ]
          },
          "execution_count": 35,
          "metadata": {},
          "output_type": "execute_result"
        }
      ],
      "source": [
        "df = df1.append(df2)\n",
        "df.head()"
      ]
    },
    {
      "cell_type": "code",
      "execution_count": null,
      "id": "8151eb69",
      "metadata": {
        "id": "8151eb69",
        "outputId": "ca2180ff-4598-4645-ffed-889402963785"
      },
      "outputs": [
        {
          "name": "stdout",
          "output_type": "stream",
          "text": [
            "<class 'pandas.core.frame.DataFrame'>\n",
            "Int64Index: 113378 entries, 0 to 67697\n",
            "Data columns (total 11 columns):\n",
            " #   Column               Non-Null Count   Dtype  \n",
            "---  ------               --------------   -----  \n",
            " 0   PLANT_ID             113378 non-null  int64  \n",
            " 1   SOURCE_KEY           113378 non-null  object \n",
            " 2   DC_POWER             113378 non-null  float64\n",
            " 3   AC_POWER             113378 non-null  float64\n",
            " 4   DAILY_YIELD          113378 non-null  float64\n",
            " 5   TOTAL_YIELD          113378 non-null  float64\n",
            " 6   DATE                 113378 non-null  object \n",
            " 7   TIME                 113378 non-null  object \n",
            " 8   AMBIENT_TEMPERATURE  113378 non-null  float64\n",
            " 9   MODULE_TEMPERATURE   113378 non-null  float64\n",
            " 10  IRRADIATION          113378 non-null  float64\n",
            "dtypes: float64(7), int64(1), object(3)\n",
            "memory usage: 10.4+ MB\n"
          ]
        }
      ],
      "source": [
        "df.info()"
      ]
    },
    {
      "cell_type": "code",
      "execution_count": null,
      "id": "64eae7cc",
      "metadata": {
        "id": "64eae7cc",
        "outputId": "cced4169-705f-4d4c-ac17-f923cce5bd79"
      },
      "outputs": [
        {
          "data": {
            "text/html": [
              "<div>\n",
              "<style scoped>\n",
              "    .dataframe tbody tr th:only-of-type {\n",
              "        vertical-align: middle;\n",
              "    }\n",
              "\n",
              "    .dataframe tbody tr th {\n",
              "        vertical-align: top;\n",
              "    }\n",
              "\n",
              "    .dataframe thead th {\n",
              "        text-align: right;\n",
              "    }\n",
              "</style>\n",
              "<table border=\"1\" class=\"dataframe\">\n",
              "  <thead>\n",
              "    <tr style=\"text-align: right;\">\n",
              "      <th></th>\n",
              "      <th>PLANT_ID</th>\n",
              "      <th>DC_POWER</th>\n",
              "      <th>AC_POWER</th>\n",
              "      <th>DAILY_YIELD</th>\n",
              "      <th>TOTAL_YIELD</th>\n",
              "      <th>AMBIENT_TEMPERATURE</th>\n",
              "      <th>MODULE_TEMPERATURE</th>\n",
              "      <th>IRRADIATION</th>\n",
              "    </tr>\n",
              "  </thead>\n",
              "  <tbody>\n",
              "    <tr>\n",
              "      <th>count</th>\n",
              "      <td>1.133780e+05</td>\n",
              "      <td>113378.000000</td>\n",
              "      <td>113378.000000</td>\n",
              "      <td>113378.000000</td>\n",
              "      <td>1.133780e+05</td>\n",
              "      <td>113378.000000</td>\n",
              "      <td>113378.000000</td>\n",
              "      <td>113378.000000</td>\n",
              "    </tr>\n",
              "    <tr>\n",
              "      <th>mean</th>\n",
              "      <td>4.135598e+06</td>\n",
              "      <td>1435.448039</td>\n",
              "      <td>270.034756</td>\n",
              "      <td>3302.245736</td>\n",
              "      <td>3.962589e+08</td>\n",
              "      <td>27.152919</td>\n",
              "      <td>32.313415</td>\n",
              "      <td>0.232278</td>\n",
              "    </tr>\n",
              "    <tr>\n",
              "      <th>std</th>\n",
              "      <td>4.904831e+02</td>\n",
              "      <td>2980.684840</td>\n",
              "      <td>378.886280</td>\n",
              "      <td>3017.028657</td>\n",
              "      <td>6.482038e+08</td>\n",
              "      <td>3.972680</td>\n",
              "      <td>11.821014</td>\n",
              "      <td>0.308162</td>\n",
              "    </tr>\n",
              "    <tr>\n",
              "      <th>min</th>\n",
              "      <td>4.135001e+06</td>\n",
              "      <td>0.000000</td>\n",
              "      <td>0.000000</td>\n",
              "      <td>0.000000</td>\n",
              "      <td>0.000000e+00</td>\n",
              "      <td>20.398505</td>\n",
              "      <td>18.140415</td>\n",
              "      <td>0.000000</td>\n",
              "    </tr>\n",
              "    <tr>\n",
              "      <th>25%</th>\n",
              "      <td>4.135001e+06</td>\n",
              "      <td>0.000000</td>\n",
              "      <td>0.000000</td>\n",
              "      <td>58.560714</td>\n",
              "      <td>6.522172e+06</td>\n",
              "      <td>23.952657</td>\n",
              "      <td>22.879119</td>\n",
              "      <td>0.000000</td>\n",
              "    </tr>\n",
              "    <tr>\n",
              "      <th>50%</th>\n",
              "      <td>4.136001e+06</td>\n",
              "      <td>0.000000</td>\n",
              "      <td>0.000000</td>\n",
              "      <td>2860.300000</td>\n",
              "      <td>7.335882e+06</td>\n",
              "      <td>26.226078</td>\n",
              "      <td>26.857380</td>\n",
              "      <td>0.025264</td>\n",
              "    </tr>\n",
              "    <tr>\n",
              "      <th>75%</th>\n",
              "      <td>4.136001e+06</td>\n",
              "      <td>896.270000</td>\n",
              "      <td>513.200000</td>\n",
              "      <td>5995.870536</td>\n",
              "      <td>3.296333e+08</td>\n",
              "      <td>29.874267</td>\n",
              "      <td>41.107081</td>\n",
              "      <td>0.444573</td>\n",
              "    </tr>\n",
              "    <tr>\n",
              "      <th>max</th>\n",
              "      <td>4.136001e+06</td>\n",
              "      <td>14471.125000</td>\n",
              "      <td>1410.950000</td>\n",
              "      <td>9873.000000</td>\n",
              "      <td>2.247916e+09</td>\n",
              "      <td>39.181638</td>\n",
              "      <td>66.635953</td>\n",
              "      <td>1.221652</td>\n",
              "    </tr>\n",
              "  </tbody>\n",
              "</table>\n",
              "</div>"
            ],
            "text/plain": [
              "           PLANT_ID       DC_POWER       AC_POWER    DAILY_YIELD  \\\n",
              "count  1.133780e+05  113378.000000  113378.000000  113378.000000   \n",
              "mean   4.135598e+06    1435.448039     270.034756    3302.245736   \n",
              "std    4.904831e+02    2980.684840     378.886280    3017.028657   \n",
              "min    4.135001e+06       0.000000       0.000000       0.000000   \n",
              "25%    4.135001e+06       0.000000       0.000000      58.560714   \n",
              "50%    4.136001e+06       0.000000       0.000000    2860.300000   \n",
              "75%    4.136001e+06     896.270000     513.200000    5995.870536   \n",
              "max    4.136001e+06   14471.125000    1410.950000    9873.000000   \n",
              "\n",
              "        TOTAL_YIELD  AMBIENT_TEMPERATURE  MODULE_TEMPERATURE    IRRADIATION  \n",
              "count  1.133780e+05        113378.000000       113378.000000  113378.000000  \n",
              "mean   3.962589e+08            27.152919           32.313415       0.232278  \n",
              "std    6.482038e+08             3.972680           11.821014       0.308162  \n",
              "min    0.000000e+00            20.398505           18.140415       0.000000  \n",
              "25%    6.522172e+06            23.952657           22.879119       0.000000  \n",
              "50%    7.335882e+06            26.226078           26.857380       0.025264  \n",
              "75%    3.296333e+08            29.874267           41.107081       0.444573  \n",
              "max    2.247916e+09            39.181638           66.635953       1.221652  "
            ]
          },
          "execution_count": 38,
          "metadata": {},
          "output_type": "execute_result"
        }
      ],
      "source": [
        "df.describe()"
      ]
    },
    {
      "cell_type": "code",
      "execution_count": null,
      "id": "866fc99e",
      "metadata": {
        "id": "866fc99e",
        "outputId": "f5b34626-091e-4642-f17c-a63f9c143793"
      },
      "outputs": [
        {
          "data": {
            "text/plain": [
              "4136001    67698\n",
              "4135001    45680\n",
              "Name: PLANT_ID, dtype: int64"
            ]
          },
          "execution_count": 39,
          "metadata": {},
          "output_type": "execute_result"
        }
      ],
      "source": [
        "df['PLANT_ID'].value_counts()"
      ]
    },
    {
      "cell_type": "code",
      "execution_count": null,
      "id": "172d2ca8",
      "metadata": {
        "id": "172d2ca8",
        "outputId": "eb28991e-edbe-46e1-a996-52bce2aad8d4"
      },
      "outputs": [
        {
          "data": {
            "text/plain": [
              "44"
            ]
          },
          "execution_count": 43,
          "metadata": {},
          "output_type": "execute_result"
        }
      ],
      "source": [
        "df['SOURCE_KEY'].unique().size"
      ]
    },
    {
      "cell_type": "code",
      "execution_count": null,
      "id": "297b22bd",
      "metadata": {
        "id": "297b22bd",
        "outputId": "9838f18b-b8f7-4fde-afa8-84e9c399211f"
      },
      "outputs": [
        {
          "data": {
            "text/plain": [
              "<AxesSubplot:xlabel='DATE', ylabel='DAILY_YIELD'>"
            ]
          },
          "execution_count": 69,
          "metadata": {},
          "output_type": "execute_result"
        },
        {
          "data": {
            "image/png": "[encoded data removed]",
            "text/plain": [
              "<Figure size 432x288 with 1 Axes>"
            ]
          },
          "metadata": {
            "needs_background": "light"
          },
          "output_type": "display_data"
        }
      ],
      "source": [
        "sns.boxplot(data=df, x=\"DATE\", y=\"DAILY_YIELD\")"
      ]
    },
    {
      "cell_type": "code",
      "execution_count": null,
      "id": "0d964cc1",
      "metadata": {
        "id": "0d964cc1",
        "outputId": "49c5cf21-ae07-4e74-f3fe-6114b15b8226"
      },
      "outputs": [
        {
          "data": {
            "text/plain": [
              "<AxesSubplot:xlabel='DATE', ylabel='DC_POWER'>"
            ]
          },
          "execution_count": 70,
          "metadata": {},
          "output_type": "execute_result"
        },
        {
          "data": {
            "image/png": "[encoded data removed]",
            "text/plain": [
              "<Figure size 432x288 with 1 Axes>"
            ]
          },
          "metadata": {
            "needs_background": "light"
          },
          "output_type": "display_data"
        }
      ],
      "source": [
        "sns.boxplot(data=df, x=\"DATE\", y=\"DC_POWER\")"
      ]
    },
    {
      "cell_type": "code",
      "execution_count": null,
      "id": "54983107",
      "metadata": {
        "id": "54983107",
        "outputId": "a9f7c5d0-7f78-4edc-c36e-db03728b64b5"
      },
      "outputs": [
        {
          "data": {
            "text/plain": [
              "<AxesSubplot:xlabel='DATE', ylabel='AC_POWER'>"
            ]
          },
          "execution_count": 71,
          "metadata": {},
          "output_type": "execute_result"
        },
        {
          "data": {
            "image/png": "[encoded data removed]",
            "text/plain": [
              "<Figure size 432x288 with 1 Axes>"
            ]
          },
          "metadata": {
            "needs_background": "light"
          },
          "output_type": "display_data"
        }
      ],
      "source": [
        "sns.boxplot(data=df, x=\"DATE\", y=\"AC_POWER\")"
      ]
    },
    {
      "cell_type": "code",
      "execution_count": null,
      "id": "57240450",
      "metadata": {
        "id": "57240450",
        "outputId": "6a41f3f4-041d-455d-fbb9-9391152c1703"
      },
      "outputs": [
        {
          "data": {
            "text/html": [
              "<style type=\"text/css\">\n",
              "#T_e4110_row0_col0, #T_e4110_row0_col1, #T_e4110_row1_col0, #T_e4110_row1_col1, #T_e4110_row2_col2, #T_e4110_row3_col3, #T_e4110_row4_col4, #T_e4110_row5_col5, #T_e4110_row6_col6 {\n",
              "  background-color: #b40426;\n",
              "  color: #f1f1f1;\n",
              "}\n",
              "#T_e4110_row0_col2, #T_e4110_row1_col2 {\n",
              "  background-color: #4f69d9;\n",
              "  color: #f1f1f1;\n",
              "}\n",
              "#T_e4110_row0_col3, #T_e4110_row1_col3, #T_e4110_row2_col3 {\n",
              "  background-color: #465ecf;\n",
              "  color: #f1f1f1;\n",
              "}\n",
              "#T_e4110_row0_col4, #T_e4110_row1_col4, #T_e4110_row6_col4 {\n",
              "  background-color: #f7a889;\n",
              "  color: #000000;\n",
              "}\n",
              "#T_e4110_row0_col5, #T_e4110_row1_col5, #T_e4110_row5_col0, #T_e4110_row5_col1 {\n",
              "  background-color: #c43032;\n",
              "  color: #f1f1f1;\n",
              "}\n",
              "#T_e4110_row0_col6, #T_e4110_row1_col6, #T_e4110_row6_col0, #T_e4110_row6_col1 {\n",
              "  background-color: #b70d28;\n",
              "  color: #f1f1f1;\n",
              "}\n",
              "#T_e4110_row2_col0, #T_e4110_row2_col1 {\n",
              "  background-color: #506bda;\n",
              "  color: #f1f1f1;\n",
              "}\n",
              "#T_e4110_row2_col4 {\n",
              "  background-color: #dedcdb;\n",
              "  color: #000000;\n",
              "}\n",
              "#T_e4110_row2_col5 {\n",
              "  background-color: #81a4fb;\n",
              "  color: #f1f1f1;\n",
              "}\n",
              "#T_e4110_row2_col6 {\n",
              "  background-color: #516ddb;\n",
              "  color: #f1f1f1;\n",
              "}\n",
              "#T_e4110_row3_col0, #T_e4110_row3_col1, #T_e4110_row3_col2, #T_e4110_row3_col4, #T_e4110_row3_col5, #T_e4110_row3_col6, #T_e4110_row4_col3 {\n",
              "  background-color: #3b4cc0;\n",
              "  color: #f1f1f1;\n",
              "}\n",
              "#T_e4110_row4_col0, #T_e4110_row4_col1 {\n",
              "  background-color: #f7ac8e;\n",
              "  color: #000000;\n",
              "}\n",
              "#T_e4110_row4_col2 {\n",
              "  background-color: #d9dce1;\n",
              "  color: #000000;\n",
              "}\n",
              "#T_e4110_row4_col5 {\n",
              "  background-color: #e46e56;\n",
              "  color: #f1f1f1;\n",
              "}\n",
              "#T_e4110_row4_col6 {\n",
              "  background-color: #f7aa8c;\n",
              "  color: #000000;\n",
              "}\n",
              "#T_e4110_row5_col2 {\n",
              "  background-color: #7a9df8;\n",
              "  color: #f1f1f1;\n",
              "}\n",
              "#T_e4110_row5_col3 {\n",
              "  background-color: #4055c8;\n",
              "  color: #f1f1f1;\n",
              "}\n",
              "#T_e4110_row5_col4 {\n",
              "  background-color: #e36c55;\n",
              "  color: #f1f1f1;\n",
              "}\n",
              "#T_e4110_row5_col6, #T_e4110_row6_col5 {\n",
              "  background-color: #c32e31;\n",
              "  color: #f1f1f1;\n",
              "}\n",
              "#T_e4110_row6_col2 {\n",
              "  background-color: #4e68d8;\n",
              "  color: #f1f1f1;\n",
              "}\n",
              "#T_e4110_row6_col3 {\n",
              "  background-color: #4358cb;\n",
              "  color: #f1f1f1;\n",
              "}\n",
              "</style>\n",
              "<table id=\"T_e4110_\">\n",
              "  <thead>\n",
              "    <tr>\n",
              "      <th class=\"blank level0\" >&nbsp;</th>\n",
              "      <th class=\"col_heading level0 col0\" >DC_POWER</th>\n",
              "      <th class=\"col_heading level0 col1\" >AC_POWER</th>\n",
              "      <th class=\"col_heading level0 col2\" >DAILY_YIELD</th>\n",
              "      <th class=\"col_heading level0 col3\" >TOTAL_YIELD</th>\n",
              "      <th class=\"col_heading level0 col4\" >AMBIENT_TEMPERATURE</th>\n",
              "      <th class=\"col_heading level0 col5\" >MODULE_TEMPERATURE</th>\n",
              "      <th class=\"col_heading level0 col6\" >IRRADIATION</th>\n",
              "    </tr>\n",
              "  </thead>\n",
              "  <tbody>\n",
              "    <tr>\n",
              "      <th id=\"T_e4110_level0_row0\" class=\"row_heading level0 row0\" >DC_POWER</th>\n",
              "      <td id=\"T_e4110_row0_col0\" class=\"data row0 col0\" >1.000000</td>\n",
              "      <td id=\"T_e4110_row0_col1\" class=\"data row0 col1\" >0.999996</td>\n",
              "      <td id=\"T_e4110_row0_col2\" class=\"data row0 col2\" >0.076710</td>\n",
              "      <td id=\"T_e4110_row0_col3\" class=\"data row0 col3\" >0.004055</td>\n",
              "      <td id=\"T_e4110_row0_col4\" class=\"data row0 col4\" >0.703796</td>\n",
              "      <td id=\"T_e4110_row0_col5\" class=\"data row0 col5\" >0.954692</td>\n",
              "      <td id=\"T_e4110_row0_col6\" class=\"data row0 col6\" >0.991305</td>\n",
              "    </tr>\n",
              "    <tr>\n",
              "      <th id=\"T_e4110_level0_row1\" class=\"row_heading level0 row1\" >AC_POWER</th>\n",
              "      <td id=\"T_e4110_row1_col0\" class=\"data row1 col0\" >0.999996</td>\n",
              "      <td id=\"T_e4110_row1_col1\" class=\"data row1 col1\" >1.000000</td>\n",
              "      <td id=\"T_e4110_row1_col2\" class=\"data row1 col2\" >0.076628</td>\n",
              "      <td id=\"T_e4110_row1_col3\" class=\"data row1 col3\" >0.004043</td>\n",
              "      <td id=\"T_e4110_row1_col4\" class=\"data row1 col4\" >0.704035</td>\n",
              "      <td id=\"T_e4110_row1_col5\" class=\"data row1 col5\" >0.954810</td>\n",
              "      <td id=\"T_e4110_row1_col6\" class=\"data row1 col6\" >0.991260</td>\n",
              "    </tr>\n",
              "    <tr>\n",
              "      <th id=\"T_e4110_level0_row2\" class=\"row_heading level0 row2\" >DAILY_YIELD</th>\n",
              "      <td id=\"T_e4110_row2_col0\" class=\"data row2 col0\" >0.076710</td>\n",
              "      <td id=\"T_e4110_row2_col1\" class=\"data row2 col1\" >0.076628</td>\n",
              "      <td id=\"T_e4110_row2_col2\" class=\"data row2 col2\" >1.000000</td>\n",
              "      <td id=\"T_e4110_row2_col3\" class=\"data row2 col3\" >0.007277</td>\n",
              "      <td id=\"T_e4110_row2_col4\" class=\"data row2 col4\" >0.489709</td>\n",
              "      <td id=\"T_e4110_row2_col5\" class=\"data row2 col5\" >0.203702</td>\n",
              "      <td id=\"T_e4110_row2_col6\" class=\"data row2 col6\" >0.071937</td>\n",
              "    </tr>\n",
              "    <tr>\n",
              "      <th id=\"T_e4110_level0_row3\" class=\"row_heading level0 row3\" >TOTAL_YIELD</th>\n",
              "      <td id=\"T_e4110_row3_col0\" class=\"data row3 col0\" >0.004055</td>\n",
              "      <td id=\"T_e4110_row3_col1\" class=\"data row3 col1\" >0.004043</td>\n",
              "      <td id=\"T_e4110_row3_col2\" class=\"data row3 col2\" >0.007277</td>\n",
              "      <td id=\"T_e4110_row3_col3\" class=\"data row3 col3\" >1.000000</td>\n",
              "      <td id=\"T_e4110_row3_col4\" class=\"data row3 col4\" >-0.036532</td>\n",
              "      <td id=\"T_e4110_row3_col5\" class=\"data row3 col5\" >-0.014713</td>\n",
              "      <td id=\"T_e4110_row3_col6\" class=\"data row3 col6\" >-0.004981</td>\n",
              "    </tr>\n",
              "    <tr>\n",
              "      <th id=\"T_e4110_level0_row4\" class=\"row_heading level0 row4\" >AMBIENT_TEMPERATURE</th>\n",
              "      <td id=\"T_e4110_row4_col0\" class=\"data row4 col0\" >0.703796</td>\n",
              "      <td id=\"T_e4110_row4_col1\" class=\"data row4 col1\" >0.704035</td>\n",
              "      <td id=\"T_e4110_row4_col2\" class=\"data row4 col2\" >0.489709</td>\n",
              "      <td id=\"T_e4110_row4_col3\" class=\"data row4 col3\" >-0.036532</td>\n",
              "      <td id=\"T_e4110_row4_col4\" class=\"data row4 col4\" >1.000000</td>\n",
              "      <td id=\"T_e4110_row4_col5\" class=\"data row4 col5\" >0.843456</td>\n",
              "      <td id=\"T_e4110_row4_col6\" class=\"data row4 col6\" >0.702218</td>\n",
              "    </tr>\n",
              "    <tr>\n",
              "      <th id=\"T_e4110_level0_row5\" class=\"row_heading level0 row5\" >MODULE_TEMPERATURE</th>\n",
              "      <td id=\"T_e4110_row5_col0\" class=\"data row5 col0\" >0.954692</td>\n",
              "      <td id=\"T_e4110_row5_col1\" class=\"data row5 col1\" >0.954810</td>\n",
              "      <td id=\"T_e4110_row5_col2\" class=\"data row5 col2\" >0.203702</td>\n",
              "      <td id=\"T_e4110_row5_col3\" class=\"data row5 col3\" >-0.014713</td>\n",
              "      <td id=\"T_e4110_row5_col4\" class=\"data row5 col4\" >0.843456</td>\n",
              "      <td id=\"T_e4110_row5_col5\" class=\"data row5 col5\" >1.000000</td>\n",
              "      <td id=\"T_e4110_row5_col6\" class=\"data row5 col6\" >0.959346</td>\n",
              "    </tr>\n",
              "    <tr>\n",
              "      <th id=\"T_e4110_level0_row6\" class=\"row_heading level0 row6\" >IRRADIATION</th>\n",
              "      <td id=\"T_e4110_row6_col0\" class=\"data row6 col0\" >0.991305</td>\n",
              "      <td id=\"T_e4110_row6_col1\" class=\"data row6 col1\" >0.991260</td>\n",
              "      <td id=\"T_e4110_row6_col2\" class=\"data row6 col2\" >0.071937</td>\n",
              "      <td id=\"T_e4110_row6_col3\" class=\"data row6 col3\" >-0.004981</td>\n",
              "      <td id=\"T_e4110_row6_col4\" class=\"data row6 col4\" >0.702218</td>\n",
              "      <td id=\"T_e4110_row6_col5\" class=\"data row6 col5\" >0.959346</td>\n",
              "      <td id=\"T_e4110_row6_col6\" class=\"data row6 col6\" >1.000000</td>\n",
              "    </tr>\n",
              "  </tbody>\n",
              "</table>\n"
            ],
            "text/plain": [
              "<pandas.io.formats.style.Styler at 0x7f8eee4ddd90>"
            ]
          },
          "execution_count": 72,
          "metadata": {},
          "output_type": "execute_result"
        }
      ],
      "source": [
        "corr = df.corr()\n",
        "corr.style.background_gradient(cmap='coolwarm')"
      ]
    },
    {
      "cell_type": "code",
      "execution_count": null,
      "id": "3c46b930",
      "metadata": {
        "id": "3c46b930"
      },
      "outputs": [],
      "source": [
        "from sklearn.preprocessing import StandardScaler,MinMaxScaler\n",
        "\n",
        "label = df['DAILY_YIELD']\n",
        "forscale = df.drop(['SOURCE_KEY','DATE','TIME'],axis = 1)\n",
        "scaler = StandardScaler()\n",
        "f_scaled = scaler.fit_transform(forscale)"
      ]
    },
    {
      "cell_type": "code",
      "execution_count": null,
      "id": "7499fd60",
      "metadata": {
        "id": "7499fd60"
      },
      "outputs": [],
      "source": [
        "\n",
        "\n",
        "newf = pd.DataFrame(f_scaled, columns = ['DC_POWER','AC_POWER','DAILY_YIELD','TOTAL_YIELD','AMBIENT_TEMPERATURE','MODULE_TEMPERATURE','IRRADIATION'])\n",
        "\n",
        "\n"
      ]
    },
    {
      "cell_type": "code",
      "execution_count": null,
      "id": "283919e5",
      "metadata": {
        "id": "283919e5",
        "outputId": "681bcf4a-cb74-4178-b8b5-200192f2cb8f"
      },
      "outputs": [
        {
          "data": {
            "text/html": [
              "<div>\n",
              "<style scoped>\n",
              "    .dataframe tbody tr th:only-of-type {\n",
              "        vertical-align: middle;\n",
              "    }\n",
              "\n",
              "    .dataframe tbody tr th {\n",
              "        vertical-align: top;\n",
              "    }\n",
              "\n",
              "    .dataframe thead th {\n",
              "        text-align: right;\n",
              "    }\n",
              "</style>\n",
              "<table border=\"1\" class=\"dataframe\">\n",
              "  <thead>\n",
              "    <tr style=\"text-align: right;\">\n",
              "      <th></th>\n",
              "      <th>DC_POWER</th>\n",
              "      <th>AC_POWER</th>\n",
              "      <th>DAILY_YIELD</th>\n",
              "      <th>TOTAL_YIELD</th>\n",
              "      <th>AMBIENT_TEMPERATURE</th>\n",
              "      <th>MODULE_TEMPERATURE</th>\n",
              "      <th>IRRADIATION</th>\n",
              "    </tr>\n",
              "  </thead>\n",
              "  <tbody>\n",
              "    <tr>\n",
              "      <th>count</th>\n",
              "      <td>4.568000e+04</td>\n",
              "      <td>4.568000e+04</td>\n",
              "      <td>4.568000e+04</td>\n",
              "      <td>4.568000e+04</td>\n",
              "      <td>4.568000e+04</td>\n",
              "      <td>4.568000e+04</td>\n",
              "      <td>4.568000e+04</td>\n",
              "    </tr>\n",
              "    <tr>\n",
              "      <th>mean</th>\n",
              "      <td>-3.696046e-15</td>\n",
              "      <td>-3.478619e-15</td>\n",
              "      <td>-5.725304e-16</td>\n",
              "      <td>-1.831861e-15</td>\n",
              "      <td>-7.122577e-15</td>\n",
              "      <td>-2.852364e-15</td>\n",
              "      <td>-1.154753e-14</td>\n",
              "    </tr>\n",
              "    <tr>\n",
              "      <th>std</th>\n",
              "      <td>1.000011e+00</td>\n",
              "      <td>1.000011e+00</td>\n",
              "      <td>1.000011e+00</td>\n",
              "      <td>1.000011e+00</td>\n",
              "      <td>1.000011e+00</td>\n",
              "      <td>1.000011e+00</td>\n",
              "      <td>1.000011e+00</td>\n",
              "    </tr>\n",
              "    <tr>\n",
              "      <th>min</th>\n",
              "      <td>-7.835440e-01</td>\n",
              "      <td>-7.842499e-01</td>\n",
              "      <td>-1.049771e+00</td>\n",
              "      <td>-1.853545e+00</td>\n",
              "      <td>-1.551707e+00</td>\n",
              "      <td>-1.086978e+00</td>\n",
              "      <td>-7.731748e-01</td>\n",
              "    </tr>\n",
              "    <tr>\n",
              "      <th>25%</th>\n",
              "      <td>-7.835440e-01</td>\n",
              "      <td>-7.842499e-01</td>\n",
              "      <td>-1.049771e+00</td>\n",
              "      <td>-1.065707e+00</td>\n",
              "      <td>-8.399064e-01</td>\n",
              "      <td>-8.285589e-01</td>\n",
              "      <td>-7.731748e-01</td>\n",
              "    </tr>\n",
              "    <tr>\n",
              "      <th>50%</th>\n",
              "      <td>-6.697816e-01</td>\n",
              "      <td>-6.715926e-01</td>\n",
              "      <td>-2.089667e-01</td>\n",
              "      <td>3.803709e-01</td>\n",
              "      <td>-2.598470e-01</td>\n",
              "      <td>-5.142225e-01</td>\n",
              "      <td>-6.580456e-01</td>\n",
              "    </tr>\n",
              "    <tr>\n",
              "      <th>75%</th>\n",
              "      <td>8.041479e-01</td>\n",
              "      <td>8.072665e-01</td>\n",
              "      <td>9.520884e-01</td>\n",
              "      <td>6.890961e-01</td>\n",
              "      <td>6.922063e-01</td>\n",
              "      <td>8.608069e-01</td>\n",
              "      <td>7.269342e-01</td>\n",
              "    </tr>\n",
              "    <tr>\n",
              "      <th>max</th>\n",
              "      <td>2.762949e+00</td>\n",
              "      <td>2.754941e+00</td>\n",
              "      <td>1.853527e+00</td>\n",
              "      <td>2.132649e+00</td>\n",
              "      <td>2.624852e+00</td>\n",
              "      <td>2.663943e+00</td>\n",
              "      <td>3.215071e+00</td>\n",
              "    </tr>\n",
              "  </tbody>\n",
              "</table>\n",
              "</div>"
            ],
            "text/plain": [
              "           DC_POWER      AC_POWER   DAILY_YIELD   TOTAL_YIELD  \\\n",
              "count  4.568000e+04  4.568000e+04  4.568000e+04  4.568000e+04   \n",
              "mean  -3.696046e-15 -3.478619e-15 -5.725304e-16 -1.831861e-15   \n",
              "std    1.000011e+00  1.000011e+00  1.000011e+00  1.000011e+00   \n",
              "min   -7.835440e-01 -7.842499e-01 -1.049771e+00 -1.853545e+00   \n",
              "25%   -7.835440e-01 -7.842499e-01 -1.049771e+00 -1.065707e+00   \n",
              "50%   -6.697816e-01 -6.715926e-01 -2.089667e-01  3.803709e-01   \n",
              "75%    8.041479e-01  8.072665e-01  9.520884e-01  6.890961e-01   \n",
              "max    2.762949e+00  2.754941e+00  1.853527e+00  2.132649e+00   \n",
              "\n",
              "       AMBIENT_TEMPERATURE  MODULE_TEMPERATURE   IRRADIATION  \n",
              "count         4.568000e+04        4.568000e+04  4.568000e+04  \n",
              "mean         -7.122577e-15       -2.852364e-15 -1.154753e-14  \n",
              "std           1.000011e+00        1.000011e+00  1.000011e+00  \n",
              "min          -1.551707e+00       -1.086978e+00 -7.731748e-01  \n",
              "25%          -8.399064e-01       -8.285589e-01 -7.731748e-01  \n",
              "50%          -2.598470e-01       -5.142225e-01 -6.580456e-01  \n",
              "75%           6.922063e-01        8.608069e-01  7.269342e-01  \n",
              "max           2.624852e+00        2.663943e+00  3.215071e+00  "
            ]
          },
          "execution_count": 86,
          "metadata": {},
          "output_type": "execute_result"
        }
      ],
      "source": [
        "newf.describe()"
      ]
    },
    {
      "cell_type": "code",
      "execution_count": null,
      "id": "5d3f8b35",
      "metadata": {
        "id": "5d3f8b35"
      },
      "outputs": [],
      "source": [
        "from sklearn.model_selection import train_test_split\n",
        "\n",
        "X_train, X_test, y_train, y_test = train_test_split(X, y, test_size=.2, random_state=0)"
      ]
    }
  ],
  "metadata": {
    "kernelspec": {
      "display_name": "Python 3 (ipykernel)",
      "language": "python",
      "name": "python3"
    },
    "language_info": {
      "codemirror_mode": {
        "name": "ipython",
        "version": 3
      },
      "file_extension": ".py",
      "mimetype": "text/x-python",
      "name": "python",
      "nbconvert_exporter": "python",
      "pygments_lexer": "ipython3",
      "version": "3.9.7"
    },
    "colab": {
      "provenance": []
    }
  },
  "nbformat": 4,
  "nbformat_minor": 5
}